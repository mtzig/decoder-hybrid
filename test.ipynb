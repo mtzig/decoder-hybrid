{
 "cells": [
  {
   "cell_type": "code",
   "execution_count": 1,
   "id": "afccd0d3",
   "metadata": {},
   "outputs": [
    {
     "name": "stderr",
     "output_type": "stream",
     "text": [
      "/home/tzeng/anaconda3/envs/dai/lib/python3.12/site-packages/tqdm/auto.py:21: TqdmWarning: IProgress not found. Please update jupyter and ipywidgets. See https://ipywidgets.readthedocs.io/en/stable/user_install.html\n",
      "  from .autonotebook import tqdm as notebook_tqdm\n"
     ]
    }
   ],
   "source": [
    "import torch\n",
    "from mamba_ssm import Mamba2"
   ]
  },
  {
   "cell_type": "code",
   "execution_count": 3,
   "id": "d0171ead",
   "metadata": {},
   "outputs": [
    {
     "ename": "AssertionError",
     "evalue": "",
     "output_type": "error",
     "traceback": [
      "\u001b[31m---------------------------------------------------------------------------\u001b[39m",
      "\u001b[31mAssertionError\u001b[39m                            Traceback (most recent call last)",
      "\u001b[36mCell\u001b[39m\u001b[36m \u001b[39m\u001b[32mIn[3]\u001b[39m\u001b[32m, line 1\u001b[39m\n\u001b[32m----> \u001b[39m\u001b[32m1\u001b[39m model = \u001b[43mMamba2\u001b[49m\u001b[43m(\u001b[49m\n\u001b[32m      2\u001b[39m \u001b[43m    \u001b[49m\u001b[43md_model\u001b[49m\u001b[43m=\u001b[49m\u001b[32;43m16\u001b[39;49m\u001b[43m,\u001b[49m\u001b[43m   \u001b[49m\u001b[38;5;66;43;03m# hidden size\u001b[39;49;00m\n\u001b[32m      3\u001b[39m \u001b[43m    \u001b[49m\u001b[43md_state\u001b[49m\u001b[43m=\u001b[49m\u001b[32;43m16\u001b[39;49m\u001b[43m,\u001b[49m\u001b[43m   \u001b[49m\u001b[38;5;66;43;03m# state size\u001b[39;49;00m\n\u001b[32m      4\u001b[39m \u001b[43m    \u001b[49m\u001b[43md_conv\u001b[49m\u001b[43m=\u001b[49m\u001b[32;43m4\u001b[39;49m\u001b[43m,\u001b[49m\u001b[43m     \u001b[49m\u001b[38;5;66;43;03m# convolution size\u001b[39;49;00m\n\u001b[32m      5\u001b[39m \u001b[43m    \u001b[49m\u001b[43mexpand\u001b[49m\u001b[43m=\u001b[49m\u001b[32;43m2\u001b[39;49m\u001b[43m      \u001b[49m\u001b[38;5;66;43;03m# expansion factor\u001b[39;49;00m\n\u001b[32m      6\u001b[39m \u001b[43m)\u001b[49m\n\u001b[32m      8\u001b[39m \u001b[38;5;66;03m# Move model to GPU if available\u001b[39;00m\n\u001b[32m      9\u001b[39m device = \u001b[33m\"\u001b[39m\u001b[33mcuda\u001b[39m\u001b[33m\"\u001b[39m \u001b[38;5;28;01mif\u001b[39;00m torch.cuda.is_available() \u001b[38;5;28;01melse\u001b[39;00m \u001b[33m\"\u001b[39m\u001b[33mcpu\u001b[39m\u001b[33m\"\u001b[39m\n",
      "\u001b[36mFile \u001b[39m\u001b[32m~/anaconda3/envs/dai/lib/python3.12/site-packages/mamba_ssm/modules/mamba2.py:84\u001b[39m, in \u001b[36mMamba2.__init__\u001b[39m\u001b[34m(self, d_model, d_state, d_conv, conv_init, expand, headdim, d_ssm, ngroups, A_init_range, D_has_hdim, rmsnorm, norm_before_gate, dt_min, dt_max, dt_init_floor, dt_limit, bias, conv_bias, chunk_size, use_mem_eff_path, layer_idx, process_group, sequence_parallel, device, dtype)\u001b[39m\n\u001b[32m     82\u001b[39m \u001b[38;5;28;01massert\u001b[39;00m ngroups % \u001b[38;5;28mself\u001b[39m.world_size == \u001b[32m0\u001b[39m\n\u001b[32m     83\u001b[39m \u001b[38;5;28mself\u001b[39m.ngroups = ngroups // \u001b[38;5;28mself\u001b[39m.world_size\n\u001b[32m---> \u001b[39m\u001b[32m84\u001b[39m \u001b[38;5;28;01massert\u001b[39;00m \u001b[38;5;28mself\u001b[39m.d_ssm % \u001b[38;5;28mself\u001b[39m.headdim == \u001b[32m0\u001b[39m\n\u001b[32m     85\u001b[39m \u001b[38;5;28mself\u001b[39m.nheads = \u001b[38;5;28mself\u001b[39m.d_ssm // \u001b[38;5;28mself\u001b[39m.headdim\n\u001b[32m     86\u001b[39m \u001b[38;5;28mself\u001b[39m.D_has_hdim = D_has_hdim\n",
      "\u001b[31mAssertionError\u001b[39m: "
     ]
    }
   ],
   "source": [
    "model = Mamba2(\n",
    "    d_model=16,   # hidden size\n",
    "    d_state=16,   # state size\n",
    "    d_conv=4,     # convolution size\n",
    "    expand=2      # expansion factor\n",
    ")\n",
    "\n",
    "# Move model to GPU if available\n",
    "device = \"cuda\" if torch.cuda.is_available() else \"cpu\"\n",
    "model = model.to(device)\n",
    "\n",
    "# Dummy input: batch of 2 sequences, each length 8, embedding dim = 16\n",
    "x = torch.randn(2, 8, 16).to(device)\n",
    "\n",
    "# Forward pass\n",
    "y = model(x)\n",
    "\n",
    "print(\"Torch:\", torch.__version__, \"CUDA:\", torch.version.cuda)\n",
    "print(\"CUDA available?\", torch.cuda.is_available())\n",
    "print(\"Torch path:\", torch.__file__)\n",
    "print(\"Input shape:\", x.shape)\n",
    "print(\"Output shape:\", y.shape)"
   ]
  },
  {
   "cell_type": "code",
   "execution_count": null,
   "id": "b5475d4e",
   "metadata": {},
   "outputs": [],
   "source": []
  }
 ],
 "metadata": {
  "kernelspec": {
   "display_name": "dai",
   "language": "python",
   "name": "python3"
  },
  "language_info": {
   "codemirror_mode": {
    "name": "ipython",
    "version": 3
   },
   "file_extension": ".py",
   "mimetype": "text/x-python",
   "name": "python",
   "nbconvert_exporter": "python",
   "pygments_lexer": "ipython3",
   "version": "3.12.7"
  }
 },
 "nbformat": 4,
 "nbformat_minor": 5
}
